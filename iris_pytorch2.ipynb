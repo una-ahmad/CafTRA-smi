{
 "cells": [
  {
   "cell_type": "code",
   "execution_count": 1,
   "id": "c6630a40-575f-4840-9f5c-dfe53b204b95",
   "metadata": {},
   "outputs": [
    {
     "name": "stdout",
     "output_type": "stream",
     "text": [
      "Looking in indexes: http://jetson.webredirect.org/jp6/cu122\n",
      "Requirement already satisfied: scikit-learn in /usr/local/lib/python3.10/dist-packages (1.5.2)\n",
      "Requirement already satisfied: numpy>=1.19.5 in /usr/local/lib/python3.10/dist-packages (from scikit-learn) (1.26.4)\n",
      "Requirement already satisfied: scipy>=1.6.0 in /usr/local/lib/python3.10/dist-packages (from scikit-learn) (1.14.0)\n",
      "Requirement already satisfied: joblib>=1.2.0 in /usr/local/lib/python3.10/dist-packages (from scikit-learn) (1.4.2)\n",
      "Requirement already satisfied: threadpoolctl>=3.1.0 in /usr/local/lib/python3.10/dist-packages (from scikit-learn) (3.5.0)\n",
      "Note: you may need to restart the kernel to use updated packages.\n"
     ]
    }
   ],
   "source": [
    "pip install scikit-learn"
   ]
  },
  {
   "cell_type": "code",
   "execution_count": 1,
   "id": "a066445d-5d35-4a46-87e8-ba4a62b34865",
   "metadata": {},
   "outputs": [],
   "source": [
    "import pandas as pd\n",
    "import numpy as np"
   ]
  },
  {
   "cell_type": "code",
   "execution_count": 6,
   "id": "0c13ab96-c0cf-41de-aa64-62a5074ad4a0",
   "metadata": {},
   "outputs": [],
   "source": [
    "sample_df = pd.read_csv('dataset/iris_flower.csv', header=0)"
   ]
  },
  {
   "cell_type": "code",
   "execution_count": 7,
   "id": "d878dec7-64c4-47b2-9e4f-d11451cdf044",
   "metadata": {},
   "outputs": [
    {
     "data": {
      "text/html": [
       "<div>\n",
       "<style scoped>\n",
       "    .dataframe tbody tr th:only-of-type {\n",
       "        vertical-align: middle;\n",
       "    }\n",
       "\n",
       "    .dataframe tbody tr th {\n",
       "        vertical-align: top;\n",
       "    }\n",
       "\n",
       "    .dataframe thead th {\n",
       "        text-align: right;\n",
       "    }\n",
       "</style>\n",
       "<table border=\"1\" class=\"dataframe\">\n",
       "  <thead>\n",
       "    <tr style=\"text-align: right;\">\n",
       "      <th></th>\n",
       "      <th>F1</th>\n",
       "      <th>F2</th>\n",
       "      <th>F3</th>\n",
       "      <th>F4</th>\n",
       "      <th>Label</th>\n",
       "    </tr>\n",
       "  </thead>\n",
       "  <tbody>\n",
       "    <tr>\n",
       "      <th>0</th>\n",
       "      <td>5.1</td>\n",
       "      <td>3.5</td>\n",
       "      <td>1.4</td>\n",
       "      <td>0.2</td>\n",
       "      <td>Iris-setosa</td>\n",
       "    </tr>\n",
       "    <tr>\n",
       "      <th>1</th>\n",
       "      <td>4.9</td>\n",
       "      <td>3.0</td>\n",
       "      <td>1.4</td>\n",
       "      <td>0.2</td>\n",
       "      <td>Iris-setosa</td>\n",
       "    </tr>\n",
       "    <tr>\n",
       "      <th>2</th>\n",
       "      <td>4.7</td>\n",
       "      <td>3.2</td>\n",
       "      <td>1.3</td>\n",
       "      <td>0.2</td>\n",
       "      <td>Iris-setosa</td>\n",
       "    </tr>\n",
       "    <tr>\n",
       "      <th>3</th>\n",
       "      <td>4.6</td>\n",
       "      <td>3.1</td>\n",
       "      <td>1.5</td>\n",
       "      <td>0.2</td>\n",
       "      <td>Iris-setosa</td>\n",
       "    </tr>\n",
       "    <tr>\n",
       "      <th>4</th>\n",
       "      <td>5.0</td>\n",
       "      <td>3.6</td>\n",
       "      <td>1.4</td>\n",
       "      <td>0.2</td>\n",
       "      <td>Iris-setosa</td>\n",
       "    </tr>\n",
       "  </tbody>\n",
       "</table>\n",
       "</div>"
      ],
      "text/plain": [
       "    F1   F2   F3   F4        Label\n",
       "0  5.1  3.5  1.4  0.2  Iris-setosa\n",
       "1  4.9  3.0  1.4  0.2  Iris-setosa\n",
       "2  4.7  3.2  1.3  0.2  Iris-setosa\n",
       "3  4.6  3.1  1.5  0.2  Iris-setosa\n",
       "4  5.0  3.6  1.4  0.2  Iris-setosa"
      ]
     },
     "execution_count": 7,
     "metadata": {},
     "output_type": "execute_result"
    }
   ],
   "source": [
    "sample_df.head()"
   ]
  },
  {
   "cell_type": "code",
   "execution_count": 8,
   "id": "667127f7-a27c-4229-8e31-013e8c9fb93b",
   "metadata": {},
   "outputs": [],
   "source": [
    "# Encode target labels\n",
    "from sklearn.preprocessing import LabelEncoder\n",
    "label_encoder = LabelEncoder()\n",
    "sample_df[\"Label\"] = label_encoder.fit_transform(sample_df[\"Label\"])"
   ]
  },
  {
   "cell_type": "code",
   "execution_count": 26,
   "id": "ddbfa5c7-521c-4aae-8aac-23f1c0d2b25b",
   "metadata": {},
   "outputs": [],
   "source": [
    "import torch\n",
    "import numpy as np\n",
    "import torch.nn as nn\n",
    "import torch.optim as optim\n",
    "import matplotlib.pyplot as plt\n",
    "from torch.utils.data import TensorDataset, DataLoader\n",
    "from sklearn.model_selection import train_test_split\n"
   ]
  },
  {
   "cell_type": "code",
   "execution_count": 27,
   "id": "1f2052ac-65ad-4190-a2db-98dab1743119",
   "metadata": {},
   "outputs": [],
   "source": [
    "input_dim = 4\n",
    "hidden_dim1 = 12\n",
    "hidden_dim2 = 8\n",
    "output_dim = 3\n",
    "num_epochs = 1000\n",
    "batch_size = 16\n",
    "learning_rate = 0.001"
   ]
  },
  {
   "cell_type": "code",
   "execution_count": 28,
   "id": "85447de7-5424-4399-9474-3fbed0d2cb2f",
   "metadata": {},
   "outputs": [],
   "source": [
    "class IrisDataset(Dataset):\n",
    "    def __init__(self, data):\n",
    "        # In the initialization method, we define how to load our dataset.\n",
    "        # Here, we use data.drop() to identify and exclude the 'Outcome' column, extracting features and labels.\n",
    "        self.features = torch.tensor(data.drop('Outcome', axis=1).values, dtype=torch.float32)\n",
    "        self.labels = torch.tensor(data['Outcome'].values, dtype=torch.long)\n",
    "\n",
    "    def __len__(self):\n",
    "        return len(self.features)\n",
    "\n",
    "    def __getitem__(self, idx):\n",
    "        return self.features[idx], self.labels[idx]"
   ]
  },
  {
   "cell_type": "code",
   "execution_count": 29,
   "id": "18428390-53f7-4ec0-a9c2-47e79fcfbf75",
   "metadata": {},
   "outputs": [],
   "source": [
    "import torch\n",
    "from torch.utils.data import DataLoader, random_split\n",
    "from sklearn.model_selection import train_test_split\n",
    "\n"
   ]
  },
  {
   "cell_type": "code",
   "execution_count": 30,
   "id": "c7f1e36c-d1e0-4585-8092-ba3732ef92cf",
   "metadata": {},
   "outputs": [],
   "source": [
    " #Split features and target\n",
    "X = sample_df[['F1', 'F2', 'F3', 'F4']].values\n",
    "y = sample_df['Label'].values\n",
    "\n",
    "# Split into train and test sets\n",
    "X_train, X_test, y_train, y_test = train_test_split(X, y, test_size=0.2, random_state=42)\n",
    "\n",
    "# Convert to tensors\n",
    "X_train_tensor = torch.tensor(X_train, dtype=torch.float32)\n",
    "y_train_tensor = torch.tensor(y_train, dtype=torch.long)\n",
    "X_test_tensor = torch.tensor(X_test, dtype=torch.float32)\n",
    "y_test_tensor = torch.tensor(y_test, dtype=torch.long)"
   ]
  },
  {
   "cell_type": "code",
   "execution_count": 31,
   "id": "412d3d93-c3ca-417a-8bb7-a1202ce25b3e",
   "metadata": {},
   "outputs": [
    {
     "name": "stdout",
     "output_type": "stream",
     "text": [
      "tensor([1, 0, 2, 1, 1, 0, 1, 2, 1, 1, 2, 0, 0, 0, 0, 1, 2, 1, 1, 2, 0, 2, 0, 2,\n",
      "        2, 2, 2, 2, 0, 0])\n"
     ]
    }
   ],
   "source": [
    "print(y_test_tensor)"
   ]
  },
  {
   "cell_type": "code",
   "execution_count": 34,
   "id": "947141d7-c486-4abd-a811-80d67d2440c4",
   "metadata": {},
   "outputs": [],
   "source": [
    "# DataLoader\n",
    "\n",
    "train_dataset = TensorDataset(X_train_tensor, y_train_tensor)\n",
    "test_dataset = TensorDataset(X_test_tensor, y_test_tensor)\n",
    "train_loader = DataLoader(train_dataset, batch_size=16, shuffle=True)\n",
    "test_loader = DataLoader(test_dataset, batch_size=16, shuffle=False)\n",
    "\n"
   ]
  },
  {
   "cell_type": "code",
   "execution_count": 35,
   "id": "ac33dae0-b357-4cf5-b7c5-c57c93892760",
   "metadata": {},
   "outputs": [],
   "source": [
    "import torch\n",
    "import torch.nn as nn\n",
    "import torch.optim as optim\n",
    "\n",
    "class IrisClassifier(nn.Module):\n",
    "    def __init__(self):  # Corrected the typo here\n",
    "        super(IrisClassifier, self).__init__()\n",
    "        self.fc1 = nn.Linear(4, 16)  # Input has 4 features\n",
    "        self.fc2 = nn.Linear(16, 3)  # Output has 3 classes\n",
    "\n",
    "    def forward(self, x):\n",
    "        x = torch.relu(self.fc1(x))  # Apply ReLU activation\n",
    "        x = self.fc2(x)  # Output layer\n",
    "        return x"
   ]
  },
  {
   "cell_type": "code",
   "execution_count": 37,
   "id": "8c048c5e-e1d4-40d3-bde9-29d8a487cea8",
   "metadata": {},
   "outputs": [],
   "source": [
    "model = IrisClassifier()  # Initialize the model correctly\n",
    "criterion = nn.CrossEntropyLoss()\n",
    "optimizer = optim.Adam(model.parameters(), lr=0.001)  # Optimizer should work fine"
   ]
  },
  {
   "cell_type": "code",
   "execution_count": 38,
   "id": "60edfb1b-c2ec-4ca7-a37c-2f9d3b060e4c",
   "metadata": {},
   "outputs": [
    {
     "name": "stdout",
     "output_type": "stream",
     "text": [
      "Epoch [1/50], Loss: 0.9350\n",
      "Epoch [2/50], Loss: 1.0167\n",
      "Epoch [3/50], Loss: 1.1141\n",
      "Epoch [4/50], Loss: 1.0616\n",
      "Epoch [5/50], Loss: 1.1025\n",
      "Epoch [6/50], Loss: 1.0490\n",
      "Epoch [7/50], Loss: 0.9759\n",
      "Epoch [8/50], Loss: 0.9803\n",
      "Epoch [9/50], Loss: 0.9889\n",
      "Epoch [10/50], Loss: 0.9277\n",
      "Epoch [11/50], Loss: 0.8598\n",
      "Epoch [12/50], Loss: 0.9348\n",
      "Epoch [13/50], Loss: 0.9149\n",
      "Epoch [14/50], Loss: 0.8554\n",
      "Epoch [15/50], Loss: 0.7816\n",
      "Epoch [16/50], Loss: 0.8076\n",
      "Epoch [17/50], Loss: 0.8244\n",
      "Epoch [18/50], Loss: 0.7999\n",
      "Epoch [19/50], Loss: 0.7606\n",
      "Epoch [20/50], Loss: 0.8547\n",
      "Epoch [21/50], Loss: 0.8284\n",
      "Epoch [22/50], Loss: 0.7394\n",
      "Epoch [23/50], Loss: 0.7587\n",
      "Epoch [24/50], Loss: 0.6618\n",
      "Epoch [25/50], Loss: 0.4840\n",
      "Epoch [26/50], Loss: 0.7148\n",
      "Epoch [27/50], Loss: 0.6680\n",
      "Epoch [28/50], Loss: 0.6620\n",
      "Epoch [29/50], Loss: 0.7113\n",
      "Epoch [30/50], Loss: 0.6551\n",
      "Epoch [31/50], Loss: 0.5906\n",
      "Epoch [32/50], Loss: 0.4741\n",
      "Epoch [33/50], Loss: 0.4925\n",
      "Epoch [34/50], Loss: 0.7247\n",
      "Epoch [35/50], Loss: 0.5477\n",
      "Epoch [36/50], Loss: 0.5132\n",
      "Epoch [37/50], Loss: 0.5739\n",
      "Epoch [38/50], Loss: 0.6542\n",
      "Epoch [39/50], Loss: 0.4372\n",
      "Epoch [40/50], Loss: 0.4146\n",
      "Epoch [41/50], Loss: 0.5393\n",
      "Epoch [42/50], Loss: 0.5582\n",
      "Epoch [43/50], Loss: 0.4285\n",
      "Epoch [44/50], Loss: 0.5057\n",
      "Epoch [45/50], Loss: 0.5274\n",
      "Epoch [46/50], Loss: 0.4487\n",
      "Epoch [47/50], Loss: 0.4363\n",
      "Epoch [48/50], Loss: 0.5925\n",
      "Epoch [49/50], Loss: 0.6014\n",
      "Epoch [50/50], Loss: 0.4799\n",
      "Test Accuracy: 96.67%\n"
     ]
    }
   ],
   "source": [
    "# Training loop\n",
    "num_epochs = 50\n",
    "for epoch in range(num_epochs):\n",
    "    model.train()\n",
    "    for X_batch, y_batch in train_loader:\n",
    "        outputs = model(X_batch)\n",
    "        loss = criterion(outputs, y_batch)\n",
    "        optimizer.zero_grad()\n",
    "        loss.backward()\n",
    "        optimizer.step()\n",
    "    \n",
    "    print(f\"Epoch [{epoch+1}/{num_epochs}], Loss: {loss.item():.4f}\")\n",
    "\n",
    "# Evaluate the model\n",
    "model.eval()\n",
    "correct = 0\n",
    "total = 0\n",
    "with torch.no_grad():\n",
    "    for X_batch, y_batch in test_loader:\n",
    "        outputs = model(X_batch)\n",
    "        _, predicted = torch.max(outputs, 1)\n",
    "        total += y_batch.size(0)\n",
    "        correct += (predicted == y_batch).sum().item()\n",
    "\n",
    "print(f\"Test Accuracy: {100 * correct / total:.2f}%\")"
   ]
  },
  {
   "cell_type": "code",
   "execution_count": 43,
   "id": "b675a801-2e14-430e-b13e-86682fc423cd",
   "metadata": {},
   "outputs": [
    {
     "name": "stdout",
     "output_type": "stream",
     "text": [
      "Epoch [10/1000], Loss: 0.3773, Train Accuracy: 0.9667, Test Accuracy: 0.9667\n",
      "Epoch [20/1000], Loss: 0.3402, Train Accuracy: 0.9667, Test Accuracy: 0.9667\n",
      "Epoch [30/1000], Loss: 0.2992, Train Accuracy: 0.9667, Test Accuracy: 0.9667\n",
      "Epoch [40/1000], Loss: 0.2689, Train Accuracy: 0.9667, Test Accuracy: 0.9667\n",
      "Epoch [50/1000], Loss: 0.2374, Train Accuracy: 0.9667, Test Accuracy: 0.9667\n",
      "Epoch [60/1000], Loss: 0.2187, Train Accuracy: 0.9667, Test Accuracy: 0.9667\n",
      "Epoch [70/1000], Loss: 0.1967, Train Accuracy: 0.9667, Test Accuracy: 0.9667\n",
      "Epoch [80/1000], Loss: 0.1694, Train Accuracy: 0.9667, Test Accuracy: 0.9667\n",
      "Epoch [90/1000], Loss: 0.1607, Train Accuracy: 0.9667, Test Accuracy: 0.9667\n",
      "Epoch [100/1000], Loss: 0.1477, Train Accuracy: 0.9667, Test Accuracy: 0.9667\n",
      "Epoch [110/1000], Loss: 0.1385, Train Accuracy: 0.9667, Test Accuracy: 0.9667\n",
      "Epoch [120/1000], Loss: 0.1269, Train Accuracy: 0.9667, Test Accuracy: 0.9667\n",
      "Epoch [130/1000], Loss: 0.1258, Train Accuracy: 0.9667, Test Accuracy: 0.9667\n",
      "Epoch [140/1000], Loss: 0.1155, Train Accuracy: 0.9667, Test Accuracy: 0.9667\n",
      "Epoch [150/1000], Loss: 0.1181, Train Accuracy: 0.9667, Test Accuracy: 0.9667\n",
      "Epoch [160/1000], Loss: 0.1079, Train Accuracy: 0.9667, Test Accuracy: 0.9667\n",
      "Epoch [170/1000], Loss: 0.1052, Train Accuracy: 0.9667, Test Accuracy: 0.9667\n",
      "Epoch [180/1000], Loss: 0.0987, Train Accuracy: 0.9667, Test Accuracy: 0.9667\n",
      "Epoch [190/1000], Loss: 0.0920, Train Accuracy: 0.9667, Test Accuracy: 0.9667\n",
      "Epoch [200/1000], Loss: 0.0934, Train Accuracy: 0.9667, Test Accuracy: 0.9667\n",
      "Epoch [210/1000], Loss: 0.0892, Train Accuracy: 0.9667, Test Accuracy: 0.9667\n",
      "Epoch [220/1000], Loss: 0.0857, Train Accuracy: 0.9667, Test Accuracy: 0.9667\n",
      "Epoch [230/1000], Loss: 0.0978, Train Accuracy: 0.9333, Test Accuracy: 0.9333\n",
      "Epoch [240/1000], Loss: 0.0844, Train Accuracy: 0.9667, Test Accuracy: 0.9667\n",
      "Epoch [250/1000], Loss: 0.0812, Train Accuracy: 0.9667, Test Accuracy: 0.9667\n",
      "Epoch [260/1000], Loss: 0.0790, Train Accuracy: 0.9667, Test Accuracy: 0.9667\n",
      "Epoch [270/1000], Loss: 0.0792, Train Accuracy: 0.9667, Test Accuracy: 0.9667\n",
      "Epoch [280/1000], Loss: 0.0869, Train Accuracy: 0.9667, Test Accuracy: 0.9667\n",
      "Epoch [290/1000], Loss: 0.0767, Train Accuracy: 0.9667, Test Accuracy: 0.9667\n",
      "Epoch [300/1000], Loss: 0.0745, Train Accuracy: 0.9667, Test Accuracy: 0.9667\n",
      "Epoch [310/1000], Loss: 0.0826, Train Accuracy: 0.9333, Test Accuracy: 0.9333\n",
      "Epoch [320/1000], Loss: 0.0711, Train Accuracy: 0.9667, Test Accuracy: 0.9667\n",
      "Epoch [330/1000], Loss: 0.0745, Train Accuracy: 0.9667, Test Accuracy: 0.9667\n",
      "Epoch [340/1000], Loss: 0.0695, Train Accuracy: 0.9667, Test Accuracy: 0.9667\n",
      "Epoch [350/1000], Loss: 0.0757, Train Accuracy: 0.9667, Test Accuracy: 0.9667\n",
      "Epoch [360/1000], Loss: 0.0681, Train Accuracy: 0.9667, Test Accuracy: 0.9667\n",
      "Epoch [370/1000], Loss: 0.0667, Train Accuracy: 0.9667, Test Accuracy: 0.9667\n",
      "Epoch [380/1000], Loss: 0.0677, Train Accuracy: 0.9667, Test Accuracy: 0.9667\n",
      "Epoch [390/1000], Loss: 0.0666, Train Accuracy: 0.9667, Test Accuracy: 0.9667\n",
      "Epoch [400/1000], Loss: 0.0728, Train Accuracy: 0.9667, Test Accuracy: 0.9667\n",
      "Epoch [410/1000], Loss: 0.0643, Train Accuracy: 0.9667, Test Accuracy: 0.9667\n",
      "Epoch [420/1000], Loss: 0.0803, Train Accuracy: 0.9667, Test Accuracy: 0.9667\n",
      "Epoch [430/1000], Loss: 0.0655, Train Accuracy: 0.9667, Test Accuracy: 0.9667\n",
      "Epoch [440/1000], Loss: 0.0641, Train Accuracy: 0.9667, Test Accuracy: 0.9667\n",
      "Epoch [450/1000], Loss: 0.0663, Train Accuracy: 0.9667, Test Accuracy: 0.9667\n",
      "Epoch [460/1000], Loss: 0.0641, Train Accuracy: 0.9667, Test Accuracy: 0.9667\n",
      "Epoch [470/1000], Loss: 0.0636, Train Accuracy: 0.9667, Test Accuracy: 0.9667\n",
      "Epoch [480/1000], Loss: 0.0716, Train Accuracy: 0.9667, Test Accuracy: 0.9667\n",
      "Epoch [490/1000], Loss: 0.0629, Train Accuracy: 0.9667, Test Accuracy: 0.9667\n",
      "Epoch [500/1000], Loss: 0.0770, Train Accuracy: 0.9667, Test Accuracy: 0.9667\n",
      "Epoch [510/1000], Loss: 0.0605, Train Accuracy: 0.9667, Test Accuracy: 0.9667\n",
      "Epoch [520/1000], Loss: 0.0685, Train Accuracy: 0.9667, Test Accuracy: 0.9667\n",
      "Epoch [530/1000], Loss: 0.0608, Train Accuracy: 0.9667, Test Accuracy: 0.9667\n",
      "Epoch [540/1000], Loss: 0.0635, Train Accuracy: 0.9667, Test Accuracy: 0.9667\n",
      "Epoch [550/1000], Loss: 0.0594, Train Accuracy: 0.9667, Test Accuracy: 0.9667\n",
      "Epoch [560/1000], Loss: 0.0681, Train Accuracy: 0.9667, Test Accuracy: 0.9667\n",
      "Epoch [570/1000], Loss: 0.0636, Train Accuracy: 0.9667, Test Accuracy: 0.9667\n",
      "Epoch [580/1000], Loss: 0.0593, Train Accuracy: 0.9667, Test Accuracy: 0.9667\n",
      "Epoch [590/1000], Loss: 0.0825, Train Accuracy: 0.9667, Test Accuracy: 0.9667\n",
      "Epoch [600/1000], Loss: 0.0604, Train Accuracy: 0.9667, Test Accuracy: 0.9667\n",
      "Epoch [610/1000], Loss: 0.0668, Train Accuracy: 0.9667, Test Accuracy: 0.9667\n",
      "Epoch [620/1000], Loss: 0.0582, Train Accuracy: 0.9667, Test Accuracy: 0.9667\n",
      "Epoch [630/1000], Loss: 0.0650, Train Accuracy: 0.9667, Test Accuracy: 0.9667\n",
      "Epoch [640/1000], Loss: 0.0576, Train Accuracy: 0.9667, Test Accuracy: 0.9667\n",
      "Epoch [650/1000], Loss: 0.0579, Train Accuracy: 0.9667, Test Accuracy: 0.9667\n",
      "Epoch [660/1000], Loss: 0.0578, Train Accuracy: 0.9667, Test Accuracy: 0.9667\n",
      "Epoch [670/1000], Loss: 0.0622, Train Accuracy: 0.9667, Test Accuracy: 0.9667\n",
      "Epoch [680/1000], Loss: 0.0597, Train Accuracy: 0.9667, Test Accuracy: 0.9667\n",
      "Epoch [690/1000], Loss: 0.0660, Train Accuracy: 0.9667, Test Accuracy: 0.9667\n",
      "Epoch [700/1000], Loss: 0.0566, Train Accuracy: 0.9667, Test Accuracy: 0.9667\n",
      "Epoch [710/1000], Loss: 0.0597, Train Accuracy: 0.9667, Test Accuracy: 0.9667\n",
      "Epoch [720/1000], Loss: 0.0712, Train Accuracy: 0.9667, Test Accuracy: 0.9667\n",
      "Epoch [730/1000], Loss: 0.0569, Train Accuracy: 0.9667, Test Accuracy: 0.9667\n",
      "Epoch [740/1000], Loss: 0.0629, Train Accuracy: 0.9667, Test Accuracy: 0.9667\n",
      "Epoch [750/1000], Loss: 0.0607, Train Accuracy: 0.9667, Test Accuracy: 0.9667\n",
      "Epoch [760/1000], Loss: 0.0625, Train Accuracy: 0.9667, Test Accuracy: 0.9667\n",
      "Epoch [770/1000], Loss: 0.0615, Train Accuracy: 0.9667, Test Accuracy: 0.9667\n",
      "Epoch [780/1000], Loss: 0.0609, Train Accuracy: 0.9667, Test Accuracy: 0.9667\n",
      "Epoch [790/1000], Loss: 0.0576, Train Accuracy: 0.9667, Test Accuracy: 0.9667\n",
      "Epoch [800/1000], Loss: 0.0580, Train Accuracy: 0.9667, Test Accuracy: 0.9667\n",
      "Epoch [810/1000], Loss: 0.0545, Train Accuracy: 0.9667, Test Accuracy: 0.9667\n",
      "Epoch [820/1000], Loss: 0.0649, Train Accuracy: 0.9667, Test Accuracy: 0.9667\n",
      "Epoch [830/1000], Loss: 0.0585, Train Accuracy: 0.9667, Test Accuracy: 0.9667\n",
      "Epoch [840/1000], Loss: 0.0547, Train Accuracy: 0.9667, Test Accuracy: 0.9667\n",
      "Epoch [850/1000], Loss: 0.0584, Train Accuracy: 0.9667, Test Accuracy: 0.9667\n",
      "Epoch [860/1000], Loss: 0.0621, Train Accuracy: 0.9667, Test Accuracy: 0.9667\n",
      "Epoch [870/1000], Loss: 0.0636, Train Accuracy: 0.9667, Test Accuracy: 0.9667\n",
      "Epoch [880/1000], Loss: 0.0613, Train Accuracy: 0.9667, Test Accuracy: 0.9667\n",
      "Epoch [890/1000], Loss: 0.0589, Train Accuracy: 0.9667, Test Accuracy: 0.9667\n",
      "Epoch [900/1000], Loss: 0.0549, Train Accuracy: 0.9667, Test Accuracy: 0.9667\n",
      "Epoch [910/1000], Loss: 0.0587, Train Accuracy: 0.9667, Test Accuracy: 0.9667\n",
      "Epoch [920/1000], Loss: 0.0543, Train Accuracy: 0.9667, Test Accuracy: 0.9667\n",
      "Epoch [930/1000], Loss: 0.0539, Train Accuracy: 0.9667, Test Accuracy: 0.9667\n",
      "Epoch [940/1000], Loss: 0.0618, Train Accuracy: 0.9667, Test Accuracy: 0.9667\n",
      "Epoch [950/1000], Loss: 0.0544, Train Accuracy: 0.9667, Test Accuracy: 0.9667\n",
      "Epoch [960/1000], Loss: 0.0540, Train Accuracy: 0.9667, Test Accuracy: 0.9667\n",
      "Epoch [970/1000], Loss: 0.0603, Train Accuracy: 0.9667, Test Accuracy: 0.9667\n",
      "Epoch [980/1000], Loss: 0.0612, Train Accuracy: 0.9667, Test Accuracy: 0.9667\n",
      "Epoch [990/1000], Loss: 0.0582, Train Accuracy: 0.9667, Test Accuracy: 0.9667\n",
      "Epoch [1000/1000], Loss: 0.0536, Train Accuracy: 0.9667, Test Accuracy: 0.9667\n"
     ]
    }
   ],
   "source": [
    "# Define loss and optimizer\n",
    "criterion = nn.CrossEntropyLoss()\n",
    "optimizer = optim.Adam(model.parameters(), lr=0.001)\n",
    "\n",
    "## Train the model\n",
    "num_epochs = 1000\n",
    "train_losses = []\n",
    "train_accuracies = []\n",
    "test_accuracies = []\n",
    "\n",
    "for epoch in range(num_epochs):\n",
    "    model.train()\n",
    "    running_loss = 0.0\n",
    "    correct = 0\n",
    "    total = 0\n",
    "\n",
    "    for features, labels in train_loader:\n",
    "        outputs = model(features)\n",
    "        loss = criterion(outputs, labels)\n",
    "        \n",
    "        optimizer.zero_grad()\n",
    "        loss.backward()\n",
    "        optimizer.step()\n",
    "        \n",
    "        running_loss += loss.item()\n",
    "        _, predicted = torch.max(outputs.data, 1)\n",
    "        total += labels.size(0)\n",
    "        correct += (predicted == labels).sum().item()\n",
    "    \n",
    "    train_losses.append(running_loss / len(train_loader))\n",
    "    train_accuracies.append(correct / total)\n",
    "\n",
    "# Evaluate the model on the test set\n",
    "    model.eval()\n",
    "    correct = 0\n",
    "    total = 0\n",
    "    with torch.no_grad():\n",
    "        for features, labels in test_loader:\n",
    "            outputs = model(features)\n",
    "            _, predicted = torch.max(outputs.data, 1)\n",
    "            total += labels.size(0)\n",
    "            correct += (predicted == labels).sum().item()\n",
    "    \n",
    "    test_accuracies.append(correct / total)\n",
    "\n",
    "    if (epoch+1) % 10 == 0:\n",
    "        print(f'Epoch [{epoch+1}/{num_epochs}], Loss: {running_loss/len(train_loader):.4f}, '\n",
    "              f'Train Accuracy: {correct/total:.4f}, Test Accuracy: {test_accuracies[-1]:.4f}')\n",
    "\n"
   ]
  },
  {
   "cell_type": "code",
   "execution_count": 44,
   "id": "2329a68a-03f4-47b8-9094-c89abe5207e9",
   "metadata": {},
   "outputs": [
    {
     "data": {
      "image/png": "[encoded data removed]",
      "text/plain": [
       "<Figure size 1400x500 with 2 Axes>"
      ]
     },
     "metadata": {},
     "output_type": "display_data"
    }
   ],
   "source": [
    "#Plot the training loss and accuracies\n",
    "plt.figure(figsize=(14, 5))\n",
    "\n",
    "plt.subplot(1, 2, 1)\n",
    "plt.plot(train_losses, label='Training Loss')\n",
    "plt.xlabel('Epoch')\n",
    "plt.ylabel('Loss')\n",
    "plt.title('Training Loss')\n",
    "plt.legend()\n",
    "\n",
    "plt.subplot(1, 2, 2)\n",
    "plt.plot(train_accuracies, label='Training Accuracy')\n",
    "plt.plot(test_accuracies, label='Testing Accuracy')\n",
    "plt.xlabel('Epoch')\n",
    "plt.ylabel('Accuracy')\n",
    "plt.title('Accuracy')\n",
    "plt.legend()\n",
    "\n",
    "plt.tight_layout()\n",
    "plt.show()\n"
   ]
  },
  {
   "cell_type": "code",
   "execution_count": 46,
   "id": "30b6d534-9912-48a3-91ea-b0b9244e78c3",
   "metadata": {},
   "outputs": [
    {
     "name": "stdout",
     "output_type": "stream",
     "text": [
      "Accuracy: 0.97\n"
     ]
    }
   ],
   "source": [
    "# Evaluate the model\n",
    "from sklearn.metrics import accuracy_score, confusion_matrix, classification_report\n",
    "model.eval()\n",
    "with torch.no_grad():\n",
    "    y_pred = []\n",
    "    y_true = []\n",
    "    for features, labels in test_loader:\n",
    "        outputs = model(features)\n",
    "        _, predicted = torch.max(outputs.data, 1)\n",
    "        y_pred.extend(predicted.numpy())\n",
    "        y_true.extend(labels.numpy())\n",
    "\n",
    "# Calculate accuracy\n",
    "accuracy = accuracy_score(y_true, y_pred)\n",
    "print(f'Accuracy: {accuracy:.2f}')\n"
   ]
  },
  {
   "cell_type": "code",
   "execution_count": 49,
   "id": "79978547-3f0b-49e1-8338-6c07335c295c",
   "metadata": {},
   "outputs": [
    {
     "name": "stdout",
     "output_type": "stream",
     "text": [
      "Confusion Matrix:\n",
      "[[10  0  0]\n",
      " [ 0  8  1]\n",
      " [ 0  0 11]]\n",
      "Classification Report:\n",
      "                 precision    recall  f1-score   support\n",
      "\n",
      "    Iris-setosa       1.00      1.00      1.00        10\n",
      "Iris-versicolor       1.00      0.89      0.94         9\n",
      " Iris-virginica       0.92      1.00      0.96        11\n",
      "\n",
      "       accuracy                           0.97        30\n",
      "      macro avg       0.97      0.96      0.97        30\n",
      "   weighted avg       0.97      0.97      0.97        30\n",
      "\n"
     ]
    },
    {
     "data": {
      "text/plain": [
       "([<matplotlib.axis.YTick at 0xfffee2e56350>,\n",
       "  <matplotlib.axis.YTick at 0xfffee2e55cf0>,\n",
       "  <matplotlib.axis.YTick at 0xfffee2e55270>],\n",
       " [Text(0, 0, 'Iris-setosa'),\n",
       "  Text(0, 1, 'Iris-versicolor'),\n",
       "  Text(0, 2, 'Iris-virginica')])"
      ]
     },
     "execution_count": 49,
     "metadata": {},
     "output_type": "execute_result"
    },
    {
     "data": {
      "image/png": "[encoded data removed]",
      "text/plain": [
       "<Figure size 800x600 with 2 Axes>"
      ]
     },
     "metadata": {},
     "output_type": "display_data"
    }
   ],
   "source": [
    "# Confusion matrix and classification report\n",
    "conf_matrix = confusion_matrix(y_true, y_pred)\n",
    "class_report = classification_report(y_true, y_pred, target_names=label_encoder.classes_)\n",
    "\n",
    "print('Confusion Matrix:')\n",
    "print(conf_matrix)\n",
    "print('Classification Report:')\n",
    "print(class_report)\n",
    "\n",
    "# Plot the confusion matrix\n",
    "plt.figure(figsize=(8, 6))\n",
    "plt.imshow(conf_matrix, interpolation='nearest', cmap=plt.cm.Blues)\n",
    "plt.title('Confusion Matrix')\n",
    "plt.colorbar()\n",
    "tick_marks = np.arange(len(label_encoder.classes_))\n",
    "plt.xticks(tick_marks, label_encoder.classes_, rotation=45)\n",
    "plt.yticks(tick_marks, label_encoder.classes_)"
   ]
  },
  {
   "cell_type": "code",
   "execution_count": 50,
   "id": "c816d882-5c4c-4011-a752-10375ef66537",
   "metadata": {},
   "outputs": [
    {
     "data": {
      "image/png": "[encoded data removed]",
      "text/plain": [
       "<Figure size 640x480 with 1 Axes>"
      ]
     },
     "metadata": {},
     "output_type": "display_data"
    }
   ],
   "source": [
    "# Loop over data dimensions and create text annotations.\n",
    "fmt = 'd'\n",
    "thresh = conf_matrix.max() / 2.\n",
    "for i, j in np.ndindex(conf_matrix.shape):\n",
    "    plt.text(j, i, format(conf_matrix[i, j], fmt),\n",
    "             ha=\"center\", va=\"center\",\n",
    "             color=\"white\" if conf_matrix[i, j] > thresh else \"black\")\n",
    "\n",
    "plt.ylabel('True label')\n",
    "plt.xlabel('Predicted label')\n",
    "plt.tight_layout()\n",
    "plt.show()"
   ]
  },
  {
   "cell_type": "code",
   "execution_count": 54,
   "id": "b45de0ab-7b1a-4991-ae12-bfaa48762985",
   "metadata": {},
   "outputs": [
    {
     "data": {
      "text/plain": [
       "IrisClassifier(\n",
       "  (fc1): Linear(in_features=4, out_features=16, bias=True)\n",
       "  (fc2): Linear(in_features=16, out_features=3, bias=True)\n",
       ")"
      ]
     },
     "execution_count": 54,
     "metadata": {},
     "output_type": "execute_result"
    }
   ],
   "source": [
    "# Save the model\n",
    "model_path = 'iris_model2.pt'\n",
    "torch.save(model.state_dict(), model_path)\n",
    "\n",
    "# Load the model\n",
    "loaded_model = IrisClassifier()\n",
    "loaded_model.load_state_dict(torch.load(model_path))\n",
    "loaded_model.eval()"
   ]
  },
  {
   "cell_type": "code",
   "execution_count": 56,
   "id": "7e3c44c1-d926-41bf-a14c-481d6d8ee83f",
   "metadata": {},
   "outputs": [
    {
     "name": "stdout",
     "output_type": "stream",
     "text": [
      "Probabilities for each class: [9.9995780e-01 4.2249994e-05 1.8433550e-15]\n",
      "The predicted class is: Iris-setosa\n"
     ]
    }
   ],
   "source": [
    "# Select a sample for prediction (for example, the first sample in X)\n",
    "dtest = X[0, :]  # Take the first sample\n",
    "dtest = np.expand_dims(dtest, axis=0)  # Add batch dimension\n",
    "\n",
    "# Convert dtest to a torch tensor and float type\n",
    "dtest_tensor = torch.tensor(dtest, dtype=torch.float32)\n",
    "\n",
    "# Get predictions\n",
    "with torch.no_grad():\n",
    "    predictions = loaded_model(dtest_tensor)\n",
    "\n",
    "# Since you have three classes, use softmax to get probabilities\n",
    "softmax = torch.nn.Softmax(dim=1)\n",
    "probabilities = softmax(predictions).numpy()[0]\n",
    "\n",
    "# Get the predicted class\n",
    "predicted_class = np.argmax(probabilities)\n",
    "\n",
    "# Get class labels from LabelEncoder\n",
    "predicted_class_label = label_encoder.inverse_transform([predicted_class])[0]\n",
    "\n",
    "print(f\"Probabilities for each class: {probabilities}\")\n",
    "print(f\"The predicted class is: {predicted_class_label}\")"
   ]
  },
  {
   "cell_type": "code",
   "execution_count": null,
   "id": "c6b44780-44e9-47ce-b2e5-834f3829ed23",
   "metadata": {},
   "outputs": [],
   "source": []
  }
 ],
 "metadata": {
  "kernelspec": {
   "display_name": "Python 3 (ipykernel)",
   "language": "python",
   "name": "python3"
  },
  "language_info": {
   "codemirror_mode": {
    "name": "ipython",
    "version": 3
   },
   "file_extension": ".py",
   "mimetype": "text/x-python",
   "name": "python",
   "nbconvert_exporter": "python",
   "pygments_lexer": "ipython3",
   "version": "3.10.12"
  }
 },
 "nbformat": 4,
 "nbformat_minor": 5
}
